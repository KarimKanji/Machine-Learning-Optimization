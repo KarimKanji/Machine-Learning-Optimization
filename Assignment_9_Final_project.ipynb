{
  "nbformat": 4,
  "nbformat_minor": 0,
  "metadata": {
    "colab": {
      "provenance": []
    },
    "kernelspec": {
      "name": "python3",
      "display_name": "Python 3"
    },
    "language_info": {
      "name": "python"
    }
  },
  "cells": [
    {
      "cell_type": "markdown",
      "source": [
        "# Assignment #9: Final project\n",
        "\n",
        "---\n",
        "\n",
        "\n",
        "Sebastian Fallström & Karim Kanji  <br>\n",
        "IA-20<br>\n",
        "20.12.2023<br>"
      ],
      "metadata": {
        "id": "MG5Nac4UO2Lo"
      }
    },
    {
      "cell_type": "code",
      "source": [
        "# Imports\n",
        "import random"
      ],
      "metadata": {
        "id": "bHXG5BOLPjn_"
      },
      "execution_count": null,
      "outputs": []
    },
    {
      "cell_type": "markdown",
      "source": [
        "Data\n"
      ],
      "metadata": {
        "id": "XzD26FnwmX9F"
      }
    },
    {
      "cell_type": "code",
      "source": [
        "# Data for the assignment problem\n",
        "tasks = {\n",
        "    'Make Coffee': {'barista_skills': 4, 'customer_service': 3},\n",
        "    'Serve Customers': {'customer_service': 5, 'speed': 3},\n",
        "    'Clean Tables': {'efficiency': 4, 'attention_to_detail': 3},\n",
        "    'Manage Inventory': {'organization': 5, 'efficiency': 4},\n",
        "    'Bake Pastries': {'baking_skills': 5, 'attention_to_detail': 4}\n",
        "}\n",
        "employees = {\n",
        "    'Alice': {'barista_skills': 1, 'customer_service': 5, 'speed': 4, 'efficiency': 2, 'attention_to_detail': 3, 'organization': 3, 'baking_skills': 2},\n",
        "    'Bob': {'barista_skills': 4, 'customer_service': 3, 'speed': 5, 'efficiency': 3, 'attention_to_detail': 4, 'organization': 2, 'baking_skills': 3},\n",
        "    'Charlie': {'barista_skills': 2, 'customer_service': 4, 'speed': 3, 'efficiency': 5, 'attention_to_detail': 5, 'organization': 4, 'baking_skills': 1},\n",
        "    'David': {'barista_skills': 5, 'customer_service': 2, 'speed': 2, 'efficiency': 4, 'attention_to_detail': 3, 'organization': 5, 'baking_skills': 4},\n",
        "    'Eve': {'barista_skills': 1, 'customer_service': 4, 'speed': 4, 'efficiency': 5, 'attention_to_detail': 2, 'organization': 3, 'baking_skills': 5}\n",
        "}\n",
        "\n",
        "\n",
        "# The distances\n",
        "locations = ['Helsinki', 'Espoo', 'Tampere', 'Vantaa', 'Oulu', 'Turku']\n",
        "distances = {\n",
        "    ('Helsinki', 'Espoo'): 20, ('Helsinki', 'Tampere'): 180,\n",
        "    ('Helsinki', 'Vantaa'): 15, ('Helsinki', 'Oulu'): 600,\n",
        "    ('Espoo', 'Tampere'): 170, ('Espoo', 'Vantaa'): 25,\n",
        "    ('Espoo', 'Oulu'): 610, ('Tampere', 'Vantaa'): 160,\n",
        "    ('Tampere', 'Oulu'): 420, ('Vantaa', 'Oulu'): 590,\n",
        "}\n",
        "\n",
        "# Data for the scheduling problem\n",
        "shifts = {\n",
        "    'Morning Shift': '06:00 - 12:00',\n",
        "    'Afternoon Shift': '12:00 - 18:00',\n",
        "    'Evening Shift': '18:00 - 00:00'\n",
        "}\n",
        "employee_availability = {\n",
        "    'Alice': ['Morning Shift', 'Afternoon Shift'],\n",
        "    'Bob': ['Afternoon Shift', 'Evening Shift'],\n",
        "    'Charlie': ['Morning Shift', 'Evening Shift'],\n",
        "    'David': ['Afternoon Shift', 'Evening Shift'],\n",
        "    'Eve': ['Morning Shift', 'Evening Shift']\n",
        "}"
      ],
      "metadata": {
        "id": "mQggz6CCPlvz"
      },
      "execution_count": null,
      "outputs": []
    },
    {
      "cell_type": "markdown",
      "source": [
        "Genetic Algorithm Framework"
      ],
      "metadata": {
        "id": "VBz_gugImo2B"
      }
    },
    {
      "cell_type": "code",
      "source": [
        "def genetic_algorithm(initialize_population_func, fitness_func, mutate_func, pop_size, generations, mutation_rate):\n",
        "    population = initialize_population_func(pop_size)\n",
        "    for _ in range(generations):\n",
        "        fitnesses = [fitness_func(ind) for ind in population]\n",
        "        population = select(population, fitnesses)\n",
        "        new_population = []\n",
        "        while len(new_population) < pop_size:\n",
        "            parent1, parent2 = random.sample(population, 2)\n",
        "            offspring1, offspring2 = crossover(parent1, parent2)\n",
        "            new_population.extend([mutate_func(offspring1, mutation_rate), mutate_func(offspring2, mutation_rate)])\n",
        "        population = new_population\n",
        "    return max(population, key=fitness_func)\n",
        "\n",
        "# Selection function used by the genetic algorithm\n",
        "def select(population, fitnesses, tournament_size=3):\n",
        "    selected = []\n",
        "    for _ in range(len(population)):\n",
        "        tournament = random.sample(list(zip(population, fitnesses)), tournament_size)\n",
        "        winner = max(tournament, key=lambda x: x[1])[0]\n",
        "        selected.append(winner)\n",
        "    return selected\n",
        "\n",
        "# Crossover function used by the genetic algorithm\n",
        "def crossover(parent1, parent2):\n",
        "    if isinstance(parent1, dict):\n",
        "        # Dictionary-based crossover (for the assignment problem)\n",
        "        child1, child2 = parent1.copy(), parent2.copy()\n",
        "        for task in parent1:\n",
        "            if random.random() < 0.5:\n",
        "                child1[task], child2[task] = child2[task], child1[task]\n",
        "        return child1, child2\n",
        "    elif isinstance(parent1, list):\n",
        "        # List-based crossover (for the routing problem)\n",
        "        return ordered_crossover(parent1, parent2)\n",
        "    else:\n",
        "        raise TypeError(\"Unsupported chromosome type\")\n",
        "\n",
        "def ordered_crossover(parent1, parent2):\n",
        "    size = len(parent1)\n",
        "    child1, child2 = [None]*size, [None]*size\n",
        "    start, end = sorted(random.sample(range(size), 2))\n",
        "    child1[start:end] = parent1[start:end]\n",
        "    child2[start:end] = parent2[start:end]\n",
        "    fill_child(child1, parent2, start, end)\n",
        "    fill_child(child2, parent1, start, end)\n",
        "    return child1, child2\n",
        "\n",
        "def fill_child(child, parent, start, end):\n",
        "    size = len(parent)\n",
        "    p_index, c_index = end, end\n",
        "    while None in child:\n",
        "        if parent[p_index % size] not in child:\n",
        "            child[c_index % size] = parent[p_index % size]\n",
        "            c_index += 1\n",
        "        p_index += 1"
      ],
      "metadata": {
        "id": "giUbXtuWP5M4"
      },
      "execution_count": null,
      "outputs": []
    },
    {
      "cell_type": "markdown",
      "source": [
        "Assignment Problem Specific Functions"
      ],
      "metadata": {
        "id": "yFvzyRYemtsn"
      }
    },
    {
      "cell_type": "code",
      "source": [
        "def fitness_assignment(chromosome):\n",
        "    skill_match_score = 0\n",
        "    for task, employee in chromosome.items():\n",
        "        for skill in tasks[task]:\n",
        "            skill_match_score += min(tasks[task][skill], employees[employee][skill])\n",
        "    return skill_match_score\n",
        "\n",
        "def mutate_assignment(chromosome, mutation_rate):\n",
        "    for task in chromosome:\n",
        "        if random.random() < mutation_rate:\n",
        "            chromosome[task] = random.choice(list(employees.keys()))\n",
        "    return chromosome\n",
        "\n",
        "def validate_assignment_data(tasks, employees):\n",
        "    is_valid = True\n",
        "    for task, skills in tasks.items():\n",
        "        for skill, level in skills.items():\n",
        "            if level < 1:\n",
        "                print(f\"Invalid skill level in task '{task}': {skill} level cannot be less than 1.\")\n",
        "                is_valid = False\n",
        "\n",
        "    for employee, skills in employees.items():\n",
        "        for skill, level in skills.items():\n",
        "            if level < 1:\n",
        "                print(f\"Invalid skill level for employee '{employee}': {skill} level cannot be less than 1.\")\n",
        "                is_valid = False\n",
        "\n",
        "    return is_valid\n",
        "def initialize_population_assignment(pop_size, tasks, employees):\n",
        "    if not tasks or not employees:\n",
        "        print(\"Invalid input: Both tasks and employees are required for the assignment problem.\")\n",
        "        return []\n",
        "    return [{task: random.choice(list(employees.keys())) for task in tasks} for _ in range(pop_size)]\n"
      ],
      "metadata": {
        "id": "YdlHZrjYP8rj"
      },
      "execution_count": null,
      "outputs": []
    },
    {
      "cell_type": "markdown",
      "source": [
        "Routing Problem Specific Functions"
      ],
      "metadata": {
        "id": "hdUkTfs2mvy3"
      }
    },
    {
      "cell_type": "code",
      "source": [
        "def calculate_distance(route):\n",
        "    total_distance = 0\n",
        "    for i in range(len(route)):\n",
        "        start, end = route[i], route[(i + 1) % len(route)]  # Wrap around to the start\n",
        "        total_distance += distances.get((start, end), 0)\n",
        "    return total_distance\n",
        "\n",
        "def fitness_routing(chromosome):\n",
        "    return calculate_distance(chromosome)\n",
        "\n",
        "def mutate_routing(chromosome, mutation_rate):\n",
        "    for i in range(len(chromosome)):\n",
        "        if random.random() < mutation_rate:\n",
        "            swap_with = random.randint(0, len(chromosome) - 1)\n",
        "            chromosome[i], chromosome[swap_with] = chromosome[swap_with], chromosome[i]\n",
        "    return chromosome\n",
        "\n",
        "# Validation function for the routing problem distances\n",
        "def validate_distances(distances):\n",
        "    is_valid = True\n",
        "    for key, value in distances.items():\n",
        "        if value <= 0:\n",
        "            print(f\"Invalid distance: Distance between {key[0]} and {key[1]} cannot be 0 or negative.\")\n",
        "            is_valid = False\n",
        "    return is_valid\n",
        "# Enhanced initialization for the routing problem to handle edge cases\n",
        "def initialize_population_routing(pop_size, locations):\n",
        "    if len(locations) < 2:\n",
        "        print(\"Invalid input: At least two locations are required for the routing problem.\")\n",
        "        return []\n",
        "    return [random.sample(locations, len(locations)) for _ in range(pop_size)]\n"
      ],
      "metadata": {
        "id": "IU9Z1fimP9j3"
      },
      "execution_count": null,
      "outputs": []
    },
    {
      "cell_type": "markdown",
      "source": [
        "Scheduling Problem Specific Functions"
      ],
      "metadata": {
        "id": "Ho0seHuWmx3R"
      }
    },
    {
      "cell_type": "code",
      "source": [
        "def fitness_scheduling(chromosome):\n",
        "    fitness_score = 0\n",
        "    for shift, employee in chromosome.items():\n",
        "        if shift in employee_availability[employee]:\n",
        "            fitness_score += 1  # Increase fitness for valid assignments\n",
        "    return fitness_score\n",
        "\n",
        "def mutate_scheduling(chromosome, mutation_rate):\n",
        "    for shift in chromosome:\n",
        "        if random.random() < mutation_rate:\n",
        "            chromosome[shift] = random.choice(list(employee_availability.keys()))\n",
        "    return chromosome\n",
        "\n",
        "def validate_scheduling_data(shifts, employee_availability):\n",
        "    is_valid = True\n",
        "    if not shifts:\n",
        "        print(\"Invalid input: Shifts are required for the scheduling problem.\")\n",
        "        is_valid = False\n",
        "\n",
        "    for employee, available_shifts in employee_availability.items():\n",
        "        for shift in available_shifts:\n",
        "            if shift not in shifts:\n",
        "                print(f\"Invalid shift '{shift}' in employee '{employee}' availability.\")\n",
        "                is_valid = False\n",
        "\n",
        "    return is_valid\n",
        "def initialize_population_scheduling(pop_size, shifts, employee_availability):\n",
        "    if not shifts or not employee_availability:\n",
        "        print(\"Invalid input: Both shifts and employee availability are required for the scheduling problem.\")\n",
        "        return []\n",
        "    return [{shift: random.choice(list(employee_availability.keys())) for shift in shifts} for _ in range(pop_size)]\n"
      ],
      "metadata": {
        "id": "q8CNuiODP9oq"
      },
      "execution_count": null,
      "outputs": []
    },
    {
      "cell_type": "markdown",
      "source": [
        "Enhanced genetic algorithm function with adjustable parameters"
      ],
      "metadata": {
        "id": "cwrXP8oBm1vv"
      }
    },
    {
      "cell_type": "code",
      "source": [
        "def run_genetic_algorithm(problem_type, pop_size, generations, mutation_rate, tasks=None, employees=None, locations=None, employee_availability=None):\n",
        "    # Assignment problem logic\n",
        "    if problem_type == 'assignment':\n",
        "        if not validate_assignment_data(tasks, employees):\n",
        "            print(\"Assignment data validation failed.\")\n",
        "            return None\n",
        "        # Capture tasks and employees in the lambda function\n",
        "        return genetic_algorithm(\n",
        "            lambda pop_size=pop_size, tasks=tasks, employees=employees: initialize_population_assignment(pop_size, tasks, employees),\n",
        "            fitness_assignment,\n",
        "            mutate_assignment,\n",
        "            pop_size,\n",
        "            generations,\n",
        "            mutation_rate\n",
        "        )\n",
        "    # Routing problem logic\n",
        "    elif problem_type == 'routing':\n",
        "        if not validate_distances(distances):\n",
        "            print(\"Routing data validation failed.\")\n",
        "            return None\n",
        "        return genetic_algorithm(\n",
        "            lambda pop_size=pop_size, locations=locations: initialize_population_routing(pop_size, locations),\n",
        "            fitness_routing,\n",
        "            mutate_routing,\n",
        "            pop_size,\n",
        "            generations,\n",
        "            mutation_rate\n",
        "        )\n",
        "    # Scheduling problem logic\n",
        "    elif problem_type == 'scheduling':\n",
        "        if not validate_scheduling_data(shifts, employee_availability):\n",
        "            print(\"Scheduling data validation failed.\")\n",
        "            return None\n",
        "        return genetic_algorithm(\n",
        "            lambda pop_size=pop_size, shifts=shifts, employee_availability=employee_availability: initialize_population_scheduling(pop_size, shifts, employee_availability),\n",
        "            fitness_scheduling,\n",
        "            mutate_scheduling,\n",
        "            pop_size,\n",
        "            generations,\n",
        "            mutation_rate\n",
        "        )\n",
        "\n",
        "# Execute the genetic algorithm for each problem with different parameter settings\n",
        "best_assignment = run_genetic_algorithm('assignment', 150, 60, 0.05, tasks=tasks, employees=employees)\n",
        "best_route = run_genetic_algorithm('routing', 200, 40, 0.08, locations=locations)\n",
        "best_schedule = run_genetic_algorithm('scheduling', 120, 50, 0.1, tasks=tasks, employee_availability=employee_availability)\n"
      ],
      "metadata": {
        "id": "TfU3j-eqh9mW"
      },
      "execution_count": null,
      "outputs": []
    },
    {
      "cell_type": "markdown",
      "source": [
        "Prints"
      ],
      "metadata": {
        "id": "2yTCE-i-m-2n"
      }
    },
    {
      "cell_type": "code",
      "source": [
        "# Print Best Assignment\n",
        "print(\"\\n===== Best Assignment =====\")\n",
        "if best_assignment is not None:\n",
        "    for task, employee in best_assignment.items():\n",
        "        print(f\"  {task} -> assigned to {employee}\")\n",
        "else:\n",
        "    print(\"  Error in assignment data. Please check the data section.\")\n",
        "\n",
        "# Print Best Route\n",
        "print(\"\\n===== Best Route =====\")\n",
        "if best_route is not None:\n",
        "    route_str = \" -> \".join(best_route)\n",
        "    print(f\"  {route_str}\")\n",
        "else:\n",
        "    print(\"  Error in routing data. Please check the data section.\")\n",
        "\n",
        "# Print Best Schedule\n",
        "print(\"\\n===== Best Schedule =====\")\n",
        "if best_schedule is not None:\n",
        "    for shift, employee in best_schedule.items():\n",
        "        print(f\"  {shift} -> assigned to {employee}\")\n",
        "else:\n",
        "    print(\"  Error in scheduling data. Please check the data section.\")\n"
      ],
      "metadata": {
        "colab": {
          "base_uri": "https://localhost:8080/"
        },
        "id": "qUkCx4_qduaj",
        "outputId": "fa62e3d7-2470-42d6-9d8b-c0a47901bc00"
      },
      "execution_count": null,
      "outputs": [
        {
          "output_type": "stream",
          "name": "stdout",
          "text": [
            "\n",
            "===== Best Assignment =====\n",
            "  Make Coffee -> assigned to Bob\n",
            "  Serve Customers -> assigned to Alice\n",
            "  Clean Tables -> assigned to David\n",
            "  Manage Inventory -> assigned to David\n",
            "  Bake Pastries -> assigned to Eve\n",
            "\n",
            "===== Best Route =====\n",
            "  Turku -> Helsinki -> Tampere -> Vantaa -> Espoo -> Oulu\n",
            "\n",
            "===== Best Schedule =====\n",
            "  Morning Shift -> assigned to Alice\n",
            "  Afternoon Shift -> assigned to Bob\n",
            "  Evening Shift -> assigned to Eve\n"
          ]
        }
      ]
    },
    {
      "cell_type": "code",
      "source": [],
      "metadata": {
        "id": "AalHuO7OuOOe"
      },
      "execution_count": null,
      "outputs": []
    }
  ]
}